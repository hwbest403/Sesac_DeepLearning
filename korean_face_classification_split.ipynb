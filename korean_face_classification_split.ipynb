{
 "cells": [
  {
   "cell_type": "code",
   "execution_count": 76,
   "id": "6ba70268-e420-45ee-a3f2-61d0d98d6b08",
   "metadata": {},
   "outputs": [],
   "source": [
    "import os,shutil"
   ]
  },
  {
   "cell_type": "code",
   "execution_count": 89,
   "id": "74eafa6c-ea2f-44c2-9bd0-8a26d4cab960",
   "metadata": {},
   "outputs": [],
   "source": [
    "original_dataset_dir = 'C:\\pythonDir\\Deep_Learning\\High_Resolution'.replace('\\\\','/')\n",
    "\n",
    "base_dir = 'C:\\pythonDir\\Deep_Learning\\Korean_face'.replace('\\\\','/')\n",
    "os.mkdir(base_dir)"
   ]
  },
  {
   "cell_type": "code",
   "execution_count": 90,
   "id": "207647da-89de-485a-8626-63a70dead5c9",
   "metadata": {},
   "outputs": [
    {
     "data": {
      "text/plain": [
       "('C:/pythonDir/Deep_Learning/Korean_face/train',\n",
       " 'C:/pythonDir/Deep_Learning/Korean_face/validation',\n",
       " 'C:/pythonDir/Deep_Learning/Korean_face/test')"
      ]
     },
     "execution_count": 90,
     "metadata": {},
     "output_type": "execute_result"
    }
   ],
   "source": [
    "# 93600\n",
    "# train 45864 validation 19656 test 28080\n",
    "\n",
    "train_dir = os.path.join(base_dir,'train').replace('\\\\','/')\n",
    "os.mkdir(train_dir)\n",
    "validation_dir = os.path.join(base_dir,'validation').replace('\\\\','/')\n",
    "os.mkdir(validation_dir)\n",
    "test_dir = os.path.join(base_dir,'test').replace('\\\\','/')\n",
    "os.mkdir(test_dir)\n",
    "train_dir,validation_dir,test_dir"
   ]
  },
  {
   "cell_type": "code",
   "execution_count": 91,
   "id": "0074b0b3-c9e1-413d-b4b7-8377376ef1fe",
   "metadata": {},
   "outputs": [
    {
     "data": {
      "text/plain": [
       "['C:/pythonDir/Deep_Learning/High_Resolution\\\\S001_E01',\n",
       " 'C:/pythonDir/Deep_Learning/High_Resolution\\\\S001_E02',\n",
       " 'C:/pythonDir/Deep_Learning/High_Resolution\\\\S001_E03',\n",
       " 'C:/pythonDir/Deep_Learning/High_Resolution\\\\S002_E01',\n",
       " 'C:/pythonDir/Deep_Learning/High_Resolution\\\\S002_E02',\n",
       " 'C:/pythonDir/Deep_Learning/High_Resolution\\\\S002_E03',\n",
       " 'C:/pythonDir/Deep_Learning/High_Resolution\\\\S003_E01',\n",
       " 'C:/pythonDir/Deep_Learning/High_Resolution\\\\S003_E02',\n",
       " 'C:/pythonDir/Deep_Learning/High_Resolution\\\\S003_E03',\n",
       " 'C:/pythonDir/Deep_Learning/High_Resolution\\\\S004_E01',\n",
       " 'C:/pythonDir/Deep_Learning/High_Resolution\\\\S004_E02',\n",
       " 'C:/pythonDir/Deep_Learning/High_Resolution\\\\S004_E03',\n",
       " 'C:/pythonDir/Deep_Learning/High_Resolution\\\\S005_E01',\n",
       " 'C:/pythonDir/Deep_Learning/High_Resolution\\\\S005_E02',\n",
       " 'C:/pythonDir/Deep_Learning/High_Resolution\\\\S005_E03',\n",
       " 'C:/pythonDir/Deep_Learning/High_Resolution\\\\S006_E01',\n",
       " 'C:/pythonDir/Deep_Learning/High_Resolution\\\\S006_E02',\n",
       " 'C:/pythonDir/Deep_Learning/High_Resolution\\\\S006_E03']"
      ]
     },
     "execution_count": 91,
     "metadata": {},
     "output_type": "execute_result"
    }
   ],
   "source": [
    "from glob import glob\n",
    "\n",
    "class_paths = glob(original_dataset_dir+'\\*')\n",
    "class_paths"
   ]
  },
  {
   "cell_type": "code",
   "execution_count": 92,
   "id": "e48a09e7-2538-49d1-8f53-86b96d3ac280",
   "metadata": {},
   "outputs": [
    {
     "data": {
      "text/plain": [
       "['S001_E01',\n",
       " 'S001_E02',\n",
       " 'S001_E03',\n",
       " 'S002_E01',\n",
       " 'S002_E02',\n",
       " 'S002_E03',\n",
       " 'S003_E01',\n",
       " 'S003_E02',\n",
       " 'S003_E03',\n",
       " 'S004_E01',\n",
       " 'S004_E02',\n",
       " 'S004_E03',\n",
       " 'S005_E01',\n",
       " 'S005_E02',\n",
       " 'S005_E03',\n",
       " 'S006_E01',\n",
       " 'S006_E02',\n",
       " 'S006_E03']"
      ]
     },
     "execution_count": 92,
     "metadata": {},
     "output_type": "execute_result"
    }
   ],
   "source": [
    "class_names = []\n",
    "for class_path in class_paths:\n",
    "    class_names.append(class_path.split('\\\\')[-1])\n",
    "class_names"
   ]
  },
  {
   "cell_type": "code",
   "execution_count": 95,
   "id": "e51c2be8-7ee8-486b-aa38-0d338c89ae80",
   "metadata": {},
   "outputs": [
    {
     "name": "stdout",
     "output_type": "stream",
     "text": [
      "S001_E01\n",
      "S001_E02\n",
      "S001_E03\n",
      "S002_E01\n",
      "S002_E02\n",
      "S002_E03\n",
      "S003_E01\n",
      "S003_E02\n",
      "S003_E03\n",
      "S004_E01\n",
      "S004_E02\n",
      "S004_E03\n",
      "S005_E01\n",
      "S005_E02\n",
      "S005_E03\n",
      "S006_E01\n",
      "S006_E02\n",
      "S006_E03\n"
     ]
    }
   ],
   "source": [
    "# 각클래스 별로 train 2912 validation 1248 test 1040 \n",
    "# train 0.8 test 0.2\n",
    "# train 0.7 validation 0.3\n",
    "for i in range(len(class_names)):\n",
    "    \n",
    "    # 진행상황 파악\n",
    "    print(class_names[i])\n",
    "    \n",
    "    # train/S001_E01 폴더 만듬\n",
    "    train_class_name_dir = os.path.join(train_dir,class_names[i]).replace('\\\\','/')\n",
    "    os.mkdir(train_class_name_dir)\n",
    "    \n",
    "    # train/S001_E01 2912개만 넣기\n",
    "    one_class_datasets = glob(class_paths[i]+'/*.jpg')\n",
    "    train_datasets = one_class_datasets[:2912]\n",
    "    \n",
    "    for train_dataset in train_datasets:\n",
    "        src = os.path.join(original_dataset_dir,train_dataset).replace('\\\\','/')\n",
    "        dst = os.path.join(train_class_name_dir,train_dataset.split('\\\\')[-1]).replace('\\\\','/')\n",
    "        shutil.copyfile(src,dst)\n",
    "\n",
    "        \n",
    "    \n",
    "        \n",
    "        \n",
    "        \n",
    "    # validation/S001_E01 폴더 만듬   \n",
    "    validation_class_name_dir = os.path.join(validation_dir,class_names[i]).replace('\\\\','/')\n",
    "    os.mkdir(validation_class_name_dir)\n",
    "    \n",
    "    # validation/S001_E01 1248개만 넣기\n",
    "    train_datasets = one_class_datasets[2912:4160]\n",
    "    \n",
    "    for train_dataset in train_datasets:\n",
    "        src = os.path.join(original_dataset_dir,train_dataset).replace('\\\\','/')\n",
    "        dst = os.path.join(validation_class_name_dir,train_dataset.split('\\\\')[-1]).replace('\\\\','/')\n",
    "        shutil.copyfile(src,dst)\n",
    "\n",
    "        \n",
    "        \n",
    "        \n",
    "        \n",
    "        \n",
    "    # test/S001_E01 폴더 만듬    \n",
    "    test_class_name_dir = os.path.join(test_dir,class_names[i]).replace('\\\\','/')\n",
    "    os.mkdir(test_class_name_dir)\n",
    "    \n",
    "    # test/S001_E01 1040개만 넣기\n",
    "    train_datasets = one_class_datasets[4160:5200]\n",
    "    for train_dataset in train_datasets:\n",
    "        src = os.path.join(original_dataset_dir,train_dataset).replace('\\\\','/')\n",
    "        dst = os.path.join(test_class_name_dir,train_dataset.split('\\\\')[-1]).replace('\\\\','/')\n",
    "        shutil.copyfile(src,dst)\n",
    "    \n"
   ]
  },
  {
   "cell_type": "code",
   "execution_count": null,
   "id": "a6b6a55b-c005-461d-a51d-dc8fd3497f51",
   "metadata": {},
   "outputs": [],
   "source": []
  }
 ],
 "metadata": {
  "kernelspec": {
   "display_name": "Python 3 (ipykernel)",
   "language": "python",
   "name": "python3"
  },
  "language_info": {
   "codemirror_mode": {
    "name": "ipython",
    "version": 3
   },
   "file_extension": ".py",
   "mimetype": "text/x-python",
   "name": "python",
   "nbconvert_exporter": "python",
   "pygments_lexer": "ipython3",
   "version": "3.9.13"
  }
 },
 "nbformat": 4,
 "nbformat_minor": 5
}
